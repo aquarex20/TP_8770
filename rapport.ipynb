{
 "cells": [
  {
   "cell_type": "markdown",
   "metadata": {},
   "source": [
    "# Rapport TP2"
   ]
  },
  {
   "cell_type": "markdown",
   "metadata": {},
   "source": [
    "<!-- TODO: ajouter les noms et matricules -->\n",
    "Xavier Jouslin - 2073104"
   ]
  },
  {
   "cell_type": "markdown",
   "metadata": {},
   "source": [
    "**Note: to be able to run the code**\n",
    "```bash\n",
    "pip install scikit-image\n",
    "```"
   ]
  },
  {
   "cell_type": "markdown",
   "metadata": {},
   "source": [
    "## Question 1\n",
    "\n",
    "### Description generale de l'algorithme de Karhunen-Loève\n",
    "\n",
    "Soit une image compose de plusieurs base(e.g RGB ou YUV), ces representation sont conforme et norme mais pas forcemment le plus optimiser, l'algorithme de Karhunen-Loève permet de trouver la base avec le plus d'information possible avec le moins de base possible. Autrement dit, il faut trouver l'entropie maximale pour chaque composantes choisie de tel maniere que le nombre de composantes reste minimal.\n",
    "\n",
    "### Etape de l'algorithme de Karhunen-Loève\n",
    "\n",
    "Pour compresser avec la transforme de Karhunen-Loève, il faut determiner la moyenne de la base de l'image puis la covariance de l'image, puis trouver le vecteur propre et enfin trouver les composantes de la nouvelle base.\n",
    "\n",
    "### Difference avec les autres methodes de transformation\n",
    "\n",
    "#### Discrete Cosine Transform\n",
    "\n",
    "La transforme en cosinus discret utilise le principe de frequence de cosinus. Cette transformation est moins optimal, plus rapide que l'algorithme de Karhunen-Loève. L'avantage avec cette algorithme est qu'il est parrallelisable.\n",
    "\n",
    "#### Odelette\n",
    "\n",
    "l'algorithme de Odelette utilise le principe des ondes a la difference des cosinus avec des frequence differentes pour emcode les images. Cette algorithme est plus rapide mais moins optimal que la transforme de Karhunen-Loève. "
   ]
  },
  {
   "cell_type": "markdown",
   "metadata": {},
   "source": [
    "## Question 2\n",
    "\n",
    "### Description de la solution\n",
    "\n",
    "ImageKL est l'implementation de la compression d'image avec l'algorithme de Karhunen-Loeve. Chaque image est transforme en matrice 2D(taille de l'image * canale colorimetrique). La methode encodage permet de compresser l'image avec ou non la possibilite de change de base colorimetrique."
   ]
  },
  {
   "cell_type": "code",
   "execution_count": 95,
   "metadata": {},
   "outputs": [],
   "source": [
    "from os import path\n",
    "import numpy as np\n",
    "import cv2\n",
    "import matplotlib.pyplot as plt\n",
    "from einops import rearrange\n",
    "\n",
    "class ImageKL:\n",
    "    def __init__(self, path_code: str):\n",
    "        self.__width = 0\n",
    "        self.__height = 0\n",
    "        self.__quantifier = ()\n",
    "        self.__compress_code = None\n",
    "        self.code = self.tilde_image(path_code)\n",
    "\n",
    "    def tilde_image(self, image_path: str):\n",
    "        image = plt.imread(image_path)\n",
    "        self.__width = image.shape[1]\n",
    "        self.__height = image.shape[0]\n",
    "        return rearrange(image, 'h w c -> (h w) c')\n",
    "\n",
    "    def psnr(self):\n",
    "        return 10 * np.log10(self.__mse()) + 20 * np.log10(self.__msi())\n",
    "\n",
    "    def ssim(self):\n",
    "        covariance_images = np.cov(np.concatenate((np.reshape(self.code, (-1, 1)), np.reshape(self.__compress_code, (-1, 1))), axis=1).T)[0,1]\n",
    "        variance_base = np.cov(np.reshape(self.code, (-1, 1)).T)\n",
    "        variance_compressed = np.cov(np.reshape(self.__compress_code, (-1, 1)).T)\n",
    "        return (2 * np.mean(self.code) * np.mean(self.__compress_code) + 0.01) * (2 * covariance_images + 0.03) / ((np.mean(self.code) ** 2 + np.mean(self.__compress_code) ** 2 + 0.01) * (variance_base + variance_compressed + 0.03))\n",
    "\n",
    "    def compression_ratio(self):\n",
    "        code_color_space = np.power(2, 8 * 3)\n",
    "        compress_code_color_space = np.power(2, self.__quantifier[0]) * np.power(2, self.__quantifier[1]) * np.power(2, self.__quantifier[2])\n",
    "        code_length = np.array(self.code).shape[0] * np.array(self.code).shape[1]\n",
    "        compress_code = np.array(self.__compress_code).shape[0] * np.array(self.__compress_code).shape[1]\n",
    "        return compress_code * compress_code_color_space / (code_length * code_color_space)\n",
    "\n",
    "    def rgb2yuv(self, rgb):\n",
    "        return rearrange(cv2.cvtColor(rearrange(rgb, '(h w) c -> h w c', h=self.__height, w=self.__width).astype(np.float32), cv2.COLOR_RGB2YUV), 'h w c -> (h w) c')\n",
    "\n",
    "    def yuv2rgb(self, yuv):\n",
    "        return rearrange(cv2.cvtColor(rearrange(yuv, '(h w) c -> h w c', h=self.__height, w=self.__width).astype(np.float32), cv2.COLOR_YUV2RGB), 'h w c -> (h w) c')\n",
    "        \n",
    "\n",
    "    def encode(self, quantifier=(8, 8, 8), is_yuv=False):\n",
    "        if is_yuv:\n",
    "            self.code = self.rgb2yuv(self.code)\n",
    "        kl_transform = self.kl_transform()\n",
    "        self.__quantifier = quantifier\n",
    "        self.__compress_code = self.kl_transform_inv(self.reconstruct(self.quantify(quantifier, kl_transform), kl_transform))\n",
    "        if is_yuv:\n",
    "            self.__compress_code = self.yuv2rgb(self.__compress_code)\n",
    "        return rearrange(np.clip(self.__compress_code, 0, 1), '(h w) c -> h w c', h=self.__height, w=self.__width)\n",
    "\n",
    "    def __average(self, code):\n",
    "        mean = np.mean(code, axis=0)\n",
    "        average = np.zeros(code.shape)\n",
    "        for i in range(code.shape[1]):\n",
    "            average[:, i] = mean[i]\n",
    "        return average\n",
    "\n",
    "    def __covariant(self, code):\n",
    "        return np.cov(code, rowvar=False)\n",
    "\n",
    "    def __eigenvector(self, code):\n",
    "        return np.linalg.eig(self.__covariant(code))[1]\n",
    "\n",
    "    def __inverse_eigenvector(self, code):\n",
    "        return np.linalg.inv(self.__eigenvector(code))\n",
    "\n",
    "    def kl_transform(self):\n",
    "        return np.transpose(np.matmul(self.__eigenvector(self.code), np.transpose(np.subtract(self.code, self.__average(self.code)))))\n",
    "\n",
    "    def quantify(self, quantifier, kl_transform_outpout):\n",
    "        canals = [kl_transform_outpout[:, i] for i in range(3)]\n",
    "        return  [np.linspace(np.min(canals[i]), np.max(canals[i]), num=2**quantifier[i]) for i in range(len(canals))]\n",
    "\n",
    "    def reconstruct(self, quantifier, kl_transform_outpout):\n",
    "        canals = [kl_transform_outpout[:, i] for i in range(3)]\n",
    "        compress_canals = [[quantifier[i][np.abs(quantifier[i] - data).argmin()] for data in canals[i]] for i in range(len(quantifier))]\n",
    "        return np.transpose(np.array(compress_canals))\n",
    "\n",
    "    def kl_transform_inv(self, kl_transform):\n",
    "        return np.transpose(np.matmul(np.transpose(self.__inverse_eigenvector(self.code)), np.transpose(np.add(kl_transform, self.__average(self.code)))))\n",
    "\n",
    "    def __msi(self):\n",
    "        return max(np.power(2, self.__quantifier))\n",
    "\n",
    "    def __mse(self):\n",
    "        return 1 / np.mean((self.__compress_code - self.code) ** 2)\n"
   ]
  },
  {
   "cell_type": "code",
   "execution_count": 96,
   "metadata": {},
   "outputs": [
    {
     "name": "stdout",
     "output_type": "stream",
     "text": [
      "          image    canal is_yuv       psnr      ssim  compression_ratio\n",
      "0   kodim13.png  8, 8, 8   True  51.963981  0.032412           1.000000\n",
      "1   kodim13.png  8, 8, 8  False  59.702867  0.519967           1.000000\n",
      "2   kodim13.png  8, 8, 4   True  49.459605 -0.070631           0.062500\n",
      "3   kodim13.png  8, 8, 4  False  53.202861  0.148161           0.062500\n",
      "4   kodim13.png  8, 8, 0   True  42.271890 -0.035542           0.003906\n",
      "5   kodim13.png  8, 8, 0  False  49.127213 -0.390556           0.003906\n",
      "6   kodim13.png  8, 4, 0   True  46.539751 -0.017038           0.000244\n",
      "7   kodim13.png  8, 4, 0  False  53.483336  0.115275           0.000244\n",
      "8   kodim23.png  8, 8, 8   True  44.725769  0.039733           1.000000\n",
      "9   kodim23.png  8, 8, 8  False  52.227112  0.051631           1.000000\n",
      "10  kodim23.png  8, 8, 4   True  50.249700  0.062748           0.062500\n",
      "11  kodim23.png  8, 8, 4  False  53.306601  0.153631           0.062500\n",
      "12  kodim23.png  8, 8, 0   True  48.376208 -0.020716           0.003906\n",
      "13  kodim23.png  8, 8, 0  False  52.499174  0.038544           0.003906\n",
      "14  kodim23.png  8, 4, 0   True  48.979055 -0.008964           0.000244\n",
      "15  kodim23.png  8, 4, 0  False  55.714587  0.217189           0.000244\n",
      "16  kodim02.png  8, 8, 8   True  59.746583  0.417844           1.000000\n",
      "17  kodim02.png  8, 8, 8  False  68.281711  0.892883           1.000000\n",
      "18  kodim02.png  8, 8, 4   True  47.136916 -0.277212           0.062500\n",
      "19  kodim02.png  8, 8, 4  False  52.697260  0.080126           0.062500\n",
      "20  kodim02.png  8, 8, 0   True  45.637899 -0.138319           0.003906\n",
      "21  kodim02.png  8, 8, 0  False  52.213646 -0.012007           0.003906\n",
      "22  kodim02.png  8, 4, 0   True  42.365920  0.054101           0.000244\n",
      "23  kodim02.png  8, 4, 0  False  50.045041 -0.178711           0.000244\n",
      "24  kodim05.png  8, 8, 8   True  44.537158  0.037212           1.000000\n",
      "25  kodim05.png  8, 8, 8  False  51.819227 -0.000012           1.000000\n",
      "26  kodim05.png  8, 8, 4   True  50.544294  0.054077           0.062500\n",
      "27  kodim05.png  8, 8, 4  False  54.322653  0.236409           0.062500\n",
      "28  kodim05.png  8, 8, 0   True  42.411522 -0.019433           0.003906\n",
      "29  kodim05.png  8, 8, 0  False  49.337751 -0.451135           0.003906\n",
      "30  kodim05.png  8, 4, 0   True  48.758264 -0.000103           0.000244\n",
      "31  kodim05.png  8, 4, 0  False  55.523333  0.229688           0.000244\n",
      "32  kodim01.png  8, 8, 8   True  44.417300  0.005286           1.000000\n",
      "33  kodim01.png  8, 8, 8  False  49.583820 -0.059124           1.000000\n",
      "34  kodim01.png  8, 8, 4   True  48.223620 -0.188806           0.062500\n",
      "35  kodim01.png  8, 8, 4  False  53.828507  0.126648           0.062500\n",
      "36  kodim01.png  8, 8, 0   True  56.909139  0.231443           0.003906\n",
      "37  kodim01.png  8, 8, 0  False  60.995416  0.438610           0.003906\n",
      "38  kodim01.png  8, 4, 0   True  48.299996 -0.370992           0.000244\n",
      "39  kodim01.png  8, 4, 0  False  52.742542  0.065942           0.000244\n"
     ]
    }
   ],
   "source": [
    "import pandas as pd\n",
    "import os\n",
    "\n",
    "notebook_path = os.path.abspath(\"rapport.ipynb\")\n",
    "script_path = os.path.dirname(notebook_path)\n",
    "image_files = [os.path.join(script_path, \"../data\", f) for f in os.listdir(os.path.join(script_path, \"../data\")) if os.path.isfile(os.path.join(script_path, \"../data\", f))]\n",
    "quantifiers = [(8, 8, 8), (8, 8, 4), (8, 8, 0), (8, 4, 0)]\n",
    "result = pd.DataFrame(columns=[\"image\", \"canal\", \"is_yuv\", \"psnr\", \"ssim\", \"compression_ratio\"])\n",
    "for image_file in image_files:\n",
    "    image = ImageKL(image_file)\n",
    "    for quantifier in quantifiers:\n",
    "        for is_yuv in [True, False]:\n",
    "            image.encode(quantifier, is_yuv)\n",
    "            image_result = {\"image\": [path.basename(image_file)], \"canal\": [\", \".join([str(canal) for canal in quantifier])], \"is_yuv\": [is_yuv], \"psnr\": [image.psnr()], \"ssim\": [image.ssim()], \"compression_ratio\": [image.compression_ratio()]}\n",
    "            image_result = pd.DataFrame(image_result)\n",
    "            result = pd.concat([result, image_result], ignore_index=True)\n",
    "print(result)"
   ]
  },
  {
   "cell_type": "markdown",
   "metadata": {},
   "source": [
    "## Question 3\n",
    "\n",
    "Nous allons trie le tableau que nous avons obtenu dans la section precedente de telle facon d'optenir le meilleure modele ayant le meilleure resultat."
   ]
  },
  {
   "cell_type": "code",
   "execution_count": 97,
   "metadata": {},
   "outputs": [
    {
     "name": "stdout",
     "output_type": "stream",
     "text": [
      "          image    canal is_yuv       psnr      ssim  compression_ratio\n",
      "37  kodim01.png  8, 8, 0  False  60.995416  0.438610           0.003906\n",
      "17  kodim02.png  8, 8, 8  False  68.281711  0.892883           1.000000\n",
      "31  kodim05.png  8, 4, 0  False  55.523333  0.229688           0.000244\n",
      "1   kodim13.png  8, 8, 8  False  59.702867  0.519967           1.000000\n",
      "15  kodim23.png  8, 4, 0  False  55.714587  0.217189           0.000244\n"
     ]
    }
   ],
   "source": [
    "best_result = result.sort_values(by=[\"image\", \"psnr\", \"ssim\", \"compression_ratio\"], ascending=[True, False, False, True])\n",
    "best_result = best_result.groupby(\"image\").head(1)\n",
    "print(best_result)"
   ]
  },
  {
   "cell_type": "markdown",
   "metadata": {},
   "source": [
    "On observe que les meilleures resultat se trouve avec des quantificateurs(canal) possedant une tres forte etalement dans l espace du rouge et du vert. Dans les echantillons pris dans les donnees, il y a preponderance de rouge et de vert. On observe aussi que la base colorimetrique dans nos meilleures resultats correspond au RGB plutot que YUV. YUV devrait permettre une meilleure compression. la matrice KL de l'image YUV permet de differencie la luminosite de l'image versus l'information de la couleur de l'image."
   ]
  },
  {
   "cell_type": "markdown",
   "metadata": {},
   "source": [
    "## Question 4"
   ]
  },
  {
   "cell_type": "code",
   "execution_count": 98,
   "metadata": {},
   "outputs": [],
   "source": [
    "class ImageKLFeat:\n",
    "    def __init__(self, path_code_fit_image: str, path_code_test_image: str):\n",
    "        self.__compress_code = None\n",
    "        self.__quantifier = ()\n",
    "        self.code = ImageKL(path_code_fit_image)\n",
    "        self.test_code = ImageKL(path_code_test_image)\n",
    "\n",
    "    def psnr(self):\n",
    "        return 10 * np.log10(self.__mse()) + 20 * np.log10(self.__msi())\n",
    "\n",
    "    def ssim(self):\n",
    "        covariance_images = np.cov(np.concatenate((np.reshape(self.test_code.code, (-1, 1)), np.reshape(self.__compress_code, (-1, 1))), axis=1).T)[0,1]\n",
    "        variance_base = np.cov(np.reshape(self.test_code.code, (-1, 1)).T)\n",
    "        variance_compressed = np.cov(np.reshape(self.__compress_code, (-1, 1)).T)\n",
    "        return (2 * np.mean(self.test_code.code) * np.mean(self.__compress_code) + 0.01) * (2 * covariance_images + 0.03) / ((np.mean(self.test_code.code) ** 2 + np.mean(self.__compress_code) ** 2 + 0.01) * (variance_base + variance_compressed + 0.03))\n",
    "\n",
    "    def encode(self, quantifier=(8, 8, 8), is_yuv=False):\n",
    "        self.__quantifier = quantifier\n",
    "        if is_yuv:\n",
    "            self.code = self.rgb2yuv(self.code)\n",
    "            self.test_code = self.rgb2yuv(self.test_code)\n",
    "        kl_transform = self.code.kl_transform()\n",
    "        self.__compress_code = self.test_code.kl_transform_inv(self.test_code.reconstruct(self.code.quantify(quantifier, kl_transform), kl_transform))\n",
    "        return self.__compress_code\n",
    "    \n",
    "    def __msi(self):\n",
    "        return max(np.power(2, self.__quantifier))\n",
    "\n",
    "    def __mse(self):\n",
    "        return 1 / np.mean((self.__compress_code - self.test_code.code) ** 2)\n"
   ]
  },
  {
   "cell_type": "code",
   "execution_count": 99,
   "metadata": {},
   "outputs": [
    {
     "name": "stdout",
     "output_type": "stream",
     "text": [
      "                       image    canal is_yuv       psnr      ssim\n",
      "0   kodim13.png, kodim23.png  8, 4, 0  False  49.848191 -0.013938\n",
      "1   kodim13.png, kodim02.png  8, 4, 0  False  56.529369  0.420328\n",
      "2   kodim13.png, kodim05.png  8, 4, 0  False  51.515010 -0.065829\n",
      "3   kodim13.png, kodim01.png  8, 4, 0  False  56.783313  0.332908\n",
      "4   kodim23.png, kodim13.png  8, 4, 0  False  50.654008 -0.199759\n",
      "5   kodim23.png, kodim02.png  8, 4, 0  False  59.428893  0.567676\n",
      "6   kodim23.png, kodim05.png  8, 4, 0  False  52.138025 -0.100200\n",
      "7   kodim23.png, kodim01.png  8, 4, 0  False  57.912715  0.335194\n",
      "8   kodim02.png, kodim13.png  8, 4, 0  False  50.786554 -0.176172\n",
      "9   kodim02.png, kodim23.png  8, 4, 0  False  50.295179  0.064563\n",
      "10  kodim02.png, kodim05.png  8, 4, 0  False  52.579081 -0.102978\n",
      "11  kodim02.png, kodim01.png  8, 4, 0  False  59.292190  0.397960\n",
      "12  kodim05.png, kodim13.png  8, 4, 0  False  50.638600 -0.203653\n",
      "13  kodim05.png, kodim23.png  8, 4, 0  False  50.115935 -0.008152\n",
      "14  kodim05.png, kodim02.png  8, 4, 0  False  58.679060  0.531947\n",
      "15  kodim05.png, kodim01.png  8, 4, 0  False  57.748331  0.331800\n",
      "16  kodim01.png, kodim13.png  8, 4, 0  False  50.807518 -0.226098\n",
      "17  kodim01.png, kodim23.png  8, 4, 0  False  50.224957  0.049084\n",
      "18  kodim01.png, kodim02.png  8, 4, 0  False  61.790258  0.692596\n",
      "19  kodim01.png, kodim05.png  8, 4, 0  False  52.357393 -0.082803\n"
     ]
    }
   ],
   "source": [
    "compute_image_files = [[(f, f1) for f1 in image_files if f1 != f] for f in image_files]\n",
    "result = pd.DataFrame(columns=[\"image\", \"canal\", \"is_yuv\", \"psnr\", \"ssim\"])\n",
    "for image_file in compute_image_files:\n",
    "    for combination in image_file:        \n",
    "        image = ImageKLFeat(combination[0], combination[1])\n",
    "        best_colorimetric_base = best_result.loc[best_result[\"image\"] == path.basename(combination[0])][\"is_yuv\"].values[0]\n",
    "        best_quantifier = [int(quant) for quant in best_result.loc[best_result[\"image\"] == path.basename(combination[1])][\"canal\"].values[0].split(\", \")]\n",
    "        image.encode(quantifier, best_colorimetric_base)\n",
    "        image_result = {\"image\": \", \".join([path.basename(combination[0]), path.basename(combination[1])]), \"canal\": [\", \".join([str(canal) for canal in quantifier])], \"is_yuv\": [is_yuv], \"psnr\": [image.psnr()], \"ssim\": [image.ssim()]}\n",
    "        image_result = pd.DataFrame(image_result)\n",
    "        result = pd.concat([result, image_result], ignore_index=True)\n",
    "print(result)"
   ]
  },
  {
   "cell_type": "markdown",
   "metadata": {},
   "source": [
    "## Question 5"
   ]
  },
  {
   "cell_type": "markdown",
   "metadata": {},
   "source": [
    "On observe selon nos resultats que la qualite de la compression est deteriore. Il est plus interressant d'utilise la meme image pour obtenir la matrice KL et la matrice de quantification."
   ]
  }
 ],
 "metadata": {
  "kernelspec": {
   "display_name": "Python 3",
   "language": "python",
   "name": "python3"
  },
  "language_info": {
   "codemirror_mode": {
    "name": "ipython",
    "version": 3
   },
   "file_extension": ".py",
   "mimetype": "text/x-python",
   "name": "python",
   "nbconvert_exporter": "python",
   "pygments_lexer": "ipython3",
   "version": "3.8.10"
  }
 },
 "nbformat": 4,
 "nbformat_minor": 2
}
